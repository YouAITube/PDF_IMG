{
  "nbformat": 4,
  "nbformat_minor": 0,
  "metadata": {
    "colab": {
      "provenance": []
    },
    "kernelspec": {
      "name": "python3",
      "display_name": "Python 3"
    },
    "language_info": {
      "name": "python"
    }
  },
  "cells": [
    {
      "cell_type": "code",
      "execution_count": 1,
      "metadata": {
        "colab": {
          "base_uri": "https://localhost:8080/"
        },
        "id": "9ENoE55i3oIT",
        "outputId": "a0137327-4e04-4f90-c2ad-4274faf192ac"
      },
      "outputs": [
        {
          "output_type": "stream",
          "name": "stdout",
          "text": [
            "Collecting PyMuPDF\n",
            "  Downloading PyMuPDF-1.23.6-cp310-none-manylinux2014_x86_64.whl (4.3 MB)\n",
            "\u001b[2K     \u001b[90m━━━━━━━━━━━━━━━━━━━━━━━━━━━━━━━━━━━━━━━━\u001b[0m \u001b[32m4.3/4.3 MB\u001b[0m \u001b[31m33.1 MB/s\u001b[0m eta \u001b[36m0:00:00\u001b[0m\n",
            "\u001b[?25hCollecting PyMuPDFb==1.23.6 (from PyMuPDF)\n",
            "  Downloading PyMuPDFb-1.23.6-py3-none-manylinux2014_x86_64.manylinux_2_17_x86_64.whl (30.6 MB)\n",
            "\u001b[2K     \u001b[90m━━━━━━━━━━━━━━━━━━━━━━━━━━━━━━━━━━━━━━━━\u001b[0m \u001b[32m30.6/30.6 MB\u001b[0m \u001b[31m48.1 MB/s\u001b[0m eta \u001b[36m0:00:00\u001b[0m\n",
            "\u001b[?25hInstalling collected packages: PyMuPDFb, PyMuPDF\n",
            "Successfully installed PyMuPDF-1.23.6 PyMuPDFb-1.23.6\n"
          ]
        }
      ],
      "source": [
        "!pip3 install PyMuPDF"
      ]
    },
    {
      "cell_type": "markdown",
      "source": [
        "#version_1"
      ],
      "metadata": {
        "id": "buSVCyfbNjrd"
      }
    },
    {
      "cell_type": "code",
      "source": [
        "# Import necessary libraries\n",
        "import fitz\n",
        "#open files\n",
        "file_path = input(\"Введите путь к PDF файлу\")\n",
        "pdf_file = fitz.open(file_path)\n",
        "# Read the location to save the files\n",
        "location = input(\"Enter the location to save: \")\n",
        "# Find the number of pages in the PDF\n",
        "number_of_pages = len(pdf_file) #pdf_file.page_count\n",
        "\n",
        "# Iterate through each page in the PDF\n",
        "for current_page_index in range(number_of_pages):\n",
        "  # Get the page\n",
        "  page = pdf_file[current_page_index]\n",
        "  # Get the images on the page\n",
        "  images = page.get_images(full=True)\n",
        "  # Iterate through each image on each PDF page\n",
        "  for img_index,img in enumerate(images):\n",
        "        xref = img[0]\n",
        "        image = fitz.Pixmap(pdf_file, xref)\n",
        "        # если это чёрно-белое или цветное изображение\n",
        "        base_image = pdf_file.extract_image(xref)\n",
        "        image_bytes = base_image[\"image\"]\n",
        "        if image.n < 5:\n",
        "          image_filename = \"{}/image{}-{}.png\".format(location, current_page_index + 1, img_index + 1)\n",
        "          with open(image_filename, \"wb\") as image_file:\n",
        "                image_file.write(image_bytes)\n",
        "        #если это CMYK: конвертируем в RGB\n",
        "        else:\n",
        "            new_image = fitz.Pixmap(fitz.csRGB, image)\n",
        "            new_image.writePNG(\"{}/image{}-{}.png\".foramt(location,current_page_index, img_index))"
      ],
      "metadata": {
        "colab": {
          "base_uri": "https://localhost:8080/"
        },
        "id": "cDK37Pah49Wz",
        "outputId": "cc3fea59-954a-41a9-b794-c7cd24f568a7"
      },
      "execution_count": 2,
      "outputs": [
        {
          "name": "stdout",
          "output_type": "stream",
          "text": [
            "Введите путь к PDF файлуnew.pdf\n",
            "Enter the location to save: ./\n"
          ]
        }
      ]
    },
    {
      "cell_type": "markdown",
      "source": [
        "#version_2"
      ],
      "metadata": {
        "id": "ybWN2vB9Gf8z"
      }
    },
    {
      "cell_type": "code",
      "source": [
        "import fitz\n",
        "import os\n",
        "import numpy as np\n",
        "import matplotlib.pyplot as plt\n",
        "import io\n",
        "\n",
        "def extract_images_from_pdf(file_path, output_folder):\n",
        "    # Open the PDF file\n",
        "    pdf_file = fitz.open(file_path)\n",
        "\n",
        "    # Iterate through each page in the PDF\n",
        "    for current_page_index in range(pdf_file.page_count):\n",
        "        # Get the page\n",
        "        page = pdf_file[current_page_index]\n",
        "\n",
        "        # Get the images on the page\n",
        "        images = page.get_images(full=True)\n",
        "        display(images)\n",
        "\n",
        "        # Iterate through each image on the page\n",
        "        for img_index, img_info in enumerate(images):\n",
        "            xref = img_info[0]\n",
        "            display(xref)\n",
        "            base_image = pdf_file.extract_image(xref)\n",
        "            image_bytes = base_image[\"image\"]\n",
        "\n",
        "            # Save the image\n",
        "            image_filename = \"{}/image{}-{}.png\".format(output_folder, current_page_index + 1, img_index + 1)\n",
        "            with open(image_filename, \"wb\") as image_file:\n",
        "                image_file.write(image_bytes)\n",
        "\n",
        "    # Close the PDF file\n",
        "    pdf_file.close()\n",
        "\n",
        "# Example usage\n",
        "file_path = input(\"Enter the path to the PDF file: \")\n",
        "output_folder = input(\"Enter the location to save: \")\n",
        "extract_images_from_pdf(file_path, output_folder)\n"
      ],
      "metadata": {
        "colab": {
          "base_uri": "https://localhost:8080/",
          "height": 121
        },
        "id": "gz-jAz2kAmXz",
        "outputId": "426924a0-e07c-4271-c615-288f7f344637"
      },
      "execution_count": null,
      "outputs": [
        {
          "name": "stdout",
          "output_type": "stream",
          "text": [
            "Enter the path to the PDF file: new.pdf\n",
            "Enter the location to save: ./\n"
          ]
        },
        {
          "output_type": "display_data",
          "data": {
            "text/plain": [
              "[(16, 0, 617, 695, 8, 'DeviceRGB', '', 'Image16', 'DCTDecode', 0),\n",
              " (17, 0, 492, 595, 8, 'DeviceRGB', '', 'Image17', 'DCTDecode', 0)]"
            ]
          },
          "metadata": {}
        },
        {
          "output_type": "display_data",
          "data": {
            "text/plain": [
              "16"
            ]
          },
          "metadata": {}
        },
        {
          "output_type": "display_data",
          "data": {
            "text/plain": [
              "17"
            ]
          },
          "metadata": {}
        }
      ]
    },
    {
      "cell_type": "code",
      "source": [],
      "metadata": {
        "id": "LqS6fqcbGnXA"
      },
      "execution_count": null,
      "outputs": []
    }
  ]
}